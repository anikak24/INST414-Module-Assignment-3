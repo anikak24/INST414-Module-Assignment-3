{
  "nbformat": 4,
  "nbformat_minor": 0,
  "metadata": {
    "colab": {
      "provenance": [],
      "authorship_tag": "ABX9TyP7iDMvbFUyBD55Z9g5k9qI",
      "include_colab_link": true
    },
    "kernelspec": {
      "name": "python3",
      "display_name": "Python 3"
    },
    "language_info": {
      "name": "python"
    }
  },
  "cells": [
    {
      "cell_type": "markdown",
      "metadata": {
        "id": "view-in-github",
        "colab_type": "text"
      },
      "source": [
        "<a href=\"https://colab.research.google.com/github/anikak24/INST414-Module-Assignment-3/blob/main/INST414_MediumPost3.ipynb\" target=\"_parent\"><img src=\"https://colab.research.google.com/assets/colab-badge.svg\" alt=\"Open In Colab\"/></a>"
      ]
    },
    {
      "cell_type": "code",
      "source": [
        "import pandas as pd\n",
        "from sklearn.preprocessing import StandardScaler\n",
        "from sklearn.metrics import pairwise_distances\n",
        "import kagglehub\n",
        "from kagglehub import KaggleDatasetAdapter\n",
        "import os"
      ],
      "metadata": {
        "id": "fli-DOOnzHbg"
      },
      "execution_count": 92,
      "outputs": []
    },
    {
      "cell_type": "code",
      "execution_count": 94,
      "metadata": {
        "colab": {
          "base_uri": "https://localhost:8080/"
        },
        "id": "maH8ddDXNM-C",
        "outputId": "7dca3ecd-ce4a-45fd-f606-9ec8b5cac25d"
      },
      "outputs": [
        {
          "output_type": "stream",
          "name": "stdout",
          "text": [
            "Using Colab cache for faster access to the 'nfl-passing-statistics-2001-2023' dataset.\n",
            "Path to files: /kaggle/input/nfl-passing-statistics-2001-2023\n",
            "Files: ['passing_cleaned.csv']\n",
            "   Unnamed: 0          Player   Tm  Age   G  GS  Cmp  Att  Cmp%   Yds  ...  \\\n",
            "0           0     Kurt Warner  STL   30  16  16  375  546  68.7  4830  ...   \n",
            "1           1  Peyton Manning  IND   25  16  16  343  547  62.7  4131  ...   \n",
            "2           2     Brett Favre  GNB   32  16  16  314  510  61.6  3921  ...   \n",
            "3           3    Aaron Brooks  NOR   25  16  16  312  558  55.9  3832  ...   \n",
            "4           4     Rich Gannon  OAK   36  16  16  361  549  65.8  3828  ...   \n",
            "\n",
            "   AY/A   Y/C    Y/G   Rate  Sk  Yds-s  Sk%  NY/A  ANY/A  Year  \n",
            "0   8.4  12.9  301.9  101.4  38    233  6.5  7.87   7.41  2001  \n",
            "1   6.6  12.0  258.2   84.1  29    232  5.0  6.77   5.88  2001  \n",
            "2   7.6  12.5  245.1   94.1  22    151  4.1  7.09   7.02  2001  \n",
            "3   6.0  12.3  239.5   76.4  50    330  8.2  5.76   4.99  2001  \n",
            "4   7.2  10.6  239.3   95.5  27    155  4.7  6.38   6.61  2001  \n",
            "\n",
            "[5 rows x 27 columns]\n"
          ]
        }
      ],
      "source": [
        "file_path = kagglehub.dataset_download(\"rishabjadhav/nfl-passing-statistics-2001-2023\")\n",
        "\n",
        "print(\"Path to files:\", file_path)\n",
        "print(\"Files:\", os.listdir(file_path))\n",
        "\n",
        "file_path = os.path.join(file_path, \"passing_cleaned.csv\")\n",
        "\n",
        "df = pd.read_csv(file_path)\n",
        "print(df.head())"
      ]
    },
    {
      "cell_type": "code",
      "source": [
        "features = ['Yds','TD','Int','Cmp%','Y/A','AY/A','Rate']\n",
        "df = df.dropna(subset=features)\n",
        "stats_df = df[features].copy()\n",
        "stats_df.index = df['Player']"
      ],
      "metadata": {
        "id": "ZDTzjZv9yi46"
      },
      "execution_count": 39,
      "outputs": []
    },
    {
      "cell_type": "code",
      "source": [
        "df = df.dropna(subset=features)"
      ],
      "metadata": {
        "id": "wVLgnn7H01cS"
      },
      "execution_count": 56,
      "outputs": []
    },
    {
      "cell_type": "code",
      "source": [
        "stats_agg = df.groupby('Player')[features].mean()"
      ],
      "metadata": {
        "id": "bo7ybS3l05jz"
      },
      "execution_count": 57,
      "outputs": []
    },
    {
      "cell_type": "code",
      "source": [
        "scaler = StandardScaler()\n",
        "stats_scaled = pd.DataFrame(\n",
        "    scaler.fit_transform(stats_agg),\n",
        "    columns=features,\n",
        "    index=stats_agg.index\n",
        ")"
      ],
      "metadata": {
        "id": "r5SviRpZ08qB"
      },
      "execution_count": 58,
      "outputs": []
    },
    {
      "cell_type": "code",
      "source": [
        "query_qbs = [\"Lamar Jackson\", \"Patrick Mahomes\", \"Josh Allen\"]"
      ],
      "metadata": {
        "id": "bYobS7x0zX1L"
      },
      "execution_count": 69,
      "outputs": []
    },
    {
      "cell_type": "code",
      "source": [
        "results = {}\n",
        "for qb in query_qbs:\n",
        "    if qb not in stats_scaled.index:\n",
        "        continue\n",
        "\n",
        "    cosine_distances = pairwise_distances(stats_scaled, stats_scaled.loc[[qb]], metric='cosine')[:,0]\n",
        "    pairs = [(player, d) for player, d in zip(stats_scaled.index, cosine_distances) if player != qb]\n",
        "    top10 = sorted(pairs, key=lambda x: x[1])[:10]\n",
        "\n",
        "    top10_df = pd.DataFrame({\n",
        "        \"Player\": [player for player, d in top10],\n",
        "        \"Cosine Distance\": [d for player, d in top10],\n",
        "        \"Feature Sum\": [stats_scaled.loc[player].sum() for player, d in top10]\n",
        "    })\n",
        "\n",
        "    results[qb] = top10_df"
      ],
      "metadata": {
        "id": "Tfov4kLL1jJt"
      },
      "execution_count": 72,
      "outputs": []
    },
    {
      "cell_type": "code",
      "source": [
        "for qb, table in results.items():\n",
        "    print(f\"Top 10 players most similar to {qb}:\\n\")\n",
        "    print(table)\n",
        "    print(\"\\n\" + \"-\"*50 + \"\\n\")"
      ],
      "metadata": {
        "colab": {
          "base_uri": "https://localhost:8080/"
        },
        "id": "1dAEuRLU5Qi_",
        "outputId": "45e4d6ba-5af2-4c89-8a44-173a8bd0887c"
      },
      "execution_count": 91,
      "outputs": [
        {
          "output_type": "stream",
          "name": "stdout",
          "text": [
            "Top 10 players most similar to Lamar Jackson:\n",
            "\n",
            "            Player  Cosine Distance  Feature Sum\n",
            "0      Jordan Love         0.000625     6.293697\n",
            "1   Russell Wilson         0.000999    10.523475\n",
            "2   Deshaun Watson         0.001490     7.088581\n",
            "3      Brock Purdy         0.001825    10.443095\n",
            "4     Dak Prescott         0.001938    10.678744\n",
            "5  Patrick Mahomes         0.002168    11.808740\n",
            "6       Joe Burrow         0.002844     9.126771\n",
            "7     Kirk Cousins         0.003131     9.146974\n",
            "8        Tom Brady         0.003686    11.156887\n",
            "9     Carson Wentz         0.005060     6.853095\n",
            "\n",
            "--------------------------------------------------\n",
            "\n",
            "Top 10 players most similar to Patrick Mahomes:\n",
            "\n",
            "           Player  Cosine Distance  Feature Sum\n",
            "0  Russell Wilson         0.000348    10.523475\n",
            "1       Tom Brady         0.000825    11.156887\n",
            "2    Dak Prescott         0.001311    10.678744\n",
            "3   Lamar Jackson         0.002168     8.117928\n",
            "4  Justin Herbert         0.003297    10.946887\n",
            "5      Joe Burrow         0.003594     9.126771\n",
            "6    Kirk Cousins         0.004352     9.146974\n",
            "7  Deshaun Watson         0.004763     7.088581\n",
            "8     Jordan Love         0.004852     6.293697\n",
            "9      Drew Brees         0.006487    11.963670\n",
            "\n",
            "--------------------------------------------------\n",
            "\n",
            "Top 10 players most similar to Josh Allen:\n",
            "\n",
            "               Player  Cosine Distance  Feature Sum\n",
            "0         Andrew Luck         0.000177    11.822942\n",
            "1      Baker Mayfield         0.001566     9.904443\n",
            "2       Philip Rivers         0.001899    10.949404\n",
            "3      Peyton Manning         0.002295    13.408049\n",
            "4         Jeff Garcia         0.002445     6.164472\n",
            "5    Matthew Stafford         0.002546    10.498710\n",
            "6  Ben Roethlisberger         0.002664    10.186876\n",
            "7         Andy Dalton         0.003833     7.825073\n",
            "8      Donovan McNabb         0.004403     7.767287\n",
            "9          Drew Brees         0.004822    11.963670\n",
            "\n",
            "--------------------------------------------------\n",
            "\n"
          ]
        }
      ]
    }
  ]
}